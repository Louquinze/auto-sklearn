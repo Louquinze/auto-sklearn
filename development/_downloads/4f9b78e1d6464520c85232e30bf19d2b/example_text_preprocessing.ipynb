{
  "cells": [
    {
      "cell_type": "code",
      "execution_count": null,
      "metadata": {
        "collapsed": false
      },
      "outputs": [],
      "source": [
        "%matplotlib inline"
      ]
    },
    {
      "cell_type": "markdown",
      "metadata": {},
      "source": [
        "\n# Text Preprocessing\nThis example shows, how to use text features in *auto-sklearn*. *auto-sklearn*\ncan automatically encode text features if they are provided as string type.\n\nFor processing text features you need a pandas dataframe and set the desired\ntext columns to string and the categorical columns to category.\n\n*auto-sklearn* ass text embedding creates a bag of words count\n(https://scikit-learn.org/stable/tutorial/text_analytics/working_with_text_data.html).\n"
      ]
    },
    {
      "cell_type": "code",
      "execution_count": null,
      "metadata": {
        "collapsed": false
      },
      "outputs": [],
      "source": [
        "import matplotlib.pyplot as plt\nimport numpy as np\nimport pandas as pd\nimport sklearn.model_selection\nimport sklearn.datasets\nimport sklearn.metrics\n\nfrom smac.tae import StatusType\n\nimport autosklearn.classification"
      ]
    },
    {
      "cell_type": "markdown",
      "metadata": {},
      "source": [
        "## Data Loading\n\n"
      ]
    },
    {
      "cell_type": "code",
      "execution_count": null,
      "metadata": {
        "collapsed": false
      },
      "outputs": [],
      "source": [
        "X, y = sklearn.datasets.fetch_openml(data_id=40945, return_X_y=True)\n\n# on default the string columns is not assigned to the stirng features\nprint(f\"{X.info()}\\n\")\n\n# manuelly label all string columns\nX = X.astype({'name': 'string', 'ticket': 'string', 'cabin': 'string', 'boat': 'string',\n              'home.dest': 'string'})\n\n# now *auto-sklearn* handles the string columns with it text feature preprocessing pipeline\n\nX_train, X_test, y_train, y_test = \\\n     sklearn.model_selection.train_test_split(X, y, random_state=1)\n\ncls = autosklearn.classification.AutoSklearnClassifier(\n    time_left_for_this_task=30,\n    # Bellow two flags are provided to speed up calculations\n    # Not recommended for a real implementation\n    initial_configurations_via_metalearning=0,\n    smac_scenario_args={'runcount_limit': 1},\n)\n\ncls.fit(X_train, y_train, X_test, y_test)\n\npredictions = cls.predict(X_test)\nprint(\"Accuracy score\", sklearn.metrics.accuracy_score(y_test, predictions))\n\n\nX, y = sklearn.datasets.fetch_openml(data_id=40945, return_X_y=True, as_frame=True)\nX = X.select_dtypes(exclude=['object'])\n\nX_train, X_test, y_train, y_test = \\\n     sklearn.model_selection.train_test_split(X, y, random_state=1)\n\ncls = autosklearn.classification.AutoSklearnClassifier(\n    time_left_for_this_task=30,\n    # Bellow two flags are provided to speed up calculations\n    # Not recommended for a real implementation\n    initial_configurations_via_metalearning=0,\n    smac_scenario_args={'runcount_limit': 1},\n)\n\ncls.fit(X_train, y_train, X_test, y_test)\n\npredictions = cls.predict(X_test)\nprint(\"Accuracy score without text preprocessing\", sklearn.metrics.accuracy_score(y_test, predictions))"
      ]
    }
  ],
  "metadata": {
    "kernelspec": {
      "display_name": "Python 3",
      "language": "python",
      "name": "python3"
    },
    "language_info": {
      "codemirror_mode": {
        "name": "ipython",
        "version": 3
      },
      "file_extension": ".py",
      "mimetype": "text/x-python",
      "name": "python",
      "nbconvert_exporter": "python",
      "pygments_lexer": "ipython3",
      "version": "3.8.12"
    }
  },
  "nbformat": 4,
  "nbformat_minor": 0
}